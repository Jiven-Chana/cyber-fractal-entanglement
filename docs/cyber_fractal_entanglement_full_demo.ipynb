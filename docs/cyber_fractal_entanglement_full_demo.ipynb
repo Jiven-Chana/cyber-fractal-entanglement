{
 "cells": [
  {
   "cell_type": "markdown",
   "id": "7565bff2",
   "metadata": {},
   "source": [
    "\n",
    "# 🧠 Cyber-Fractal-Entanglement: Full Pipeline Documentation\n",
    "\n",
    "This notebook serves as the **complete documentation and executable demo** for the cyber-fractal-entanglement system, a proof-of-concept that tests whether **Quantum Mutual Information (QMI)** between fractal fingerprints of financial assets can provide **early-warning signals** for equity drawdowns.\n",
    "\n",
    "---\n",
    "\n",
    "## 🎯 Project Objective\n",
    "\n",
    "We aim to evaluate whether the **systemic entanglement signal** \\( C(t) \\), computed via QMI between asset-level fractal dimensions, statistically **predicts drawdowns in the S&P 500 (SPX)** over short horizons.\n",
    "\n",
    "---\n"
   ]
  },
  {
   "cell_type": "markdown",
   "id": "740b97c0",
   "metadata": {},
   "source": [
    "\n",
    "## 🧩 Fractal Dimension Estimation\n",
    "\n",
    "We compute time-varying fractal dimensions \\( D_i(t) \\) for each asset \\( i \\in \\{\\text{SPX}, \\text{BTC}, \\text{GOLD}, \\dots\\} \\) using **Higuchi's method** and compare it with **Hurst Exponent**.\n",
    "\n",
    "### Why Higuchi?\n",
    "\n",
    "| Criterion              | Higuchi                         | Hurst                             |\n",
    "|------------------------|----------------------------------|-----------------------------------|\n",
    "| Noise Robustness       | ✅ Robust on short/noisy data    | ❌ Sensitive to non-stationarity  |\n",
    "| Window Size            | ✅ Works with 30–50 pts          | ❌ Needs 100+ pts                 |\n",
    "| Interpretability       | ✅ Fractal scale [1,2]           | ✅ Persistence scale [0,1]        |\n",
    "| Literature Support     | ✅ Strong in econophysics        | ⚠️ Classic, less fractal-focused  |\n",
    "\n",
    "### Higuchi Equation (Simplified)\n",
    "\n",
    "For time series \\( X = \\{x_1, x_2, \\dots, x_N\\} \\), the Higuchi fractal dimension is computed from the slope of:\n",
    "\n",
    "\\[\n",
    "L(k) \\sim k^{-D}\n",
    "\\]\n",
    "\n",
    "Where \\( L(k) \\) is the average curve length at scale \\( k \\), and \\( D \\) is the fractal dimension.\n"
   ]
  },
  {
   "cell_type": "code",
   "execution_count": null,
   "id": "60169e00",
   "metadata": {},
   "outputs": [],
   "source": [
    "\n",
    "# Compute fractal dimensions using Higuchi\n",
    "!python src/fractal.py -i data/processed/prices.csv -w 30\n"
   ]
  },
  {
   "cell_type": "markdown",
   "id": "0add3c4a",
   "metadata": {},
   "source": [
    "\n",
    "---\n",
    "\n",
    "## 🔗 Quantum Mutual Information Pipeline\n",
    "\n",
    "Given fractal time series \\( D_i(t) \\), we compute:\n",
    "\n",
    "1. Covariance matrix \\( \\Sigma_t \\) over a rolling window\n",
    "2. Normalize to density matrix:\n",
    "\\[\n",
    "\\rho_t = \\frac{\\Sigma_t}{\\mathrm{Tr}(\\Sigma_t)}\n",
    "\\]\n",
    "3. Von Neumann entropy for marginals:\n",
    "\\[\n",
    "S(\\rho_i) = -\\mathrm{Tr}(\\rho_i \\log \\rho_i)\n",
    "\\]\n",
    "4. Joint entropy for pair \\( (i,j) \\) and compute **Quantum Mutual Information**:\n",
    "\\[\n",
    "\\text{QMI}_{ij}(t) = S(\\rho_i) + S(\\rho_j) - S(\\rho_{ij})\n",
    "\\]\n",
    "5. Aggregate:\n",
    "\\[\n",
    "C(t) = \\sum_{i<j} \\text{QMI}_{ij}(t)\n",
    "\\]\n",
    "\n",
    "---\n"
   ]
  },
  {
   "cell_type": "code",
   "execution_count": null,
   "id": "7d4da3da",
   "metadata": {},
   "outputs": [],
   "source": [
    "\n",
    "# Compute QMI signal C(t)\n",
    "!python src/qmi.py -i data/processed/fractal_series.csv -o data/processed/C_series.csv\n"
   ]
  },
  {
   "cell_type": "markdown",
   "id": "b4c2ffb3",
   "metadata": {},
   "source": [
    "\n",
    "## ✅ Predictive Validation\n",
    "\n",
    "We define a binary label \\( y_t \\) indicating a drawdown in SPX over horizon \\( H \\):\n",
    "\n",
    "\\[\n",
    "y_t = \\mathbb{1}\\left[ \\exists k \\in [1,H]: \\frac{P_{t+k} - \\max_{u \\le t} P_u}{\\max_{u \\le t} P_u} \\leq \\theta \\right]\n",
    "\\]\n",
    "\n",
    "### Metrics Used\n",
    "\n",
    "- **Granger causality** \\( p \\)-value for \\( C(t) \\to y_t \\)\n",
    "- **Logistic Regression** significance + AUC\n",
    "- **ROC AUC** on held-out samples\n"
   ]
  },
  {
   "cell_type": "code",
   "execution_count": null,
   "id": "b2adcdf3",
   "metadata": {},
   "outputs": [],
   "source": [
    "\n",
    "# Validate predictive performance\n",
    "!python src/validate_ct.py --c_series data/processed/C_series.csv --threshold -0.02 --horizon 5\n"
   ]
  },
  {
   "cell_type": "markdown",
   "id": "88171833",
   "metadata": {},
   "source": [
    "\n",
    "---\n",
    "\n",
    "## 📈 QMI Surface Visualization\n",
    "\n",
    "The following figure displays the QMI surface \\( \\text{QMI}_{ij}(t) \\) across time and asset pairs.\n",
    "\n",
    "- Bright peaks = strong entanglement (high mutual info)\n",
    "- Dark troughs = decoupling or noise\n",
    "\n"
   ]
  },
  {
   "cell_type": "code",
   "execution_count": null,
   "id": "c8fe175d",
   "metadata": {},
   "outputs": [],
   "source": [
    "\n",
    "from IPython.display import Image\n",
    "Image(filename='figures/qmi_evolution.png', width=900)\n"
   ]
  },
  {
   "cell_type": "markdown",
   "id": "4fdda607",
   "metadata": {},
   "source": [
    "\n",
    "---\n",
    "\n",
    "## 🧠 Summary\n",
    "\n",
    "- Higuchi-FD gives robust asset fingerprints\n",
    "- QMI reveals dynamic system-level entanglement\n",
    "- Signal \\( C(t) \\) can offer **statistically significant early-warning signals**\n",
    "- Grid search shows AUC > 0.6 and \\( p < 0.05 \\) in select SPX scenarios\n",
    "\n",
    "---\n",
    "\n",
    "For more details, see:\n",
    "- `src/fractal.py`: FD computation\n",
    "- `src/qmi.py`: QMI and \\( C(t) \\) generation\n",
    "- `src/validate_ct.py`: predictive model validation\n"
   ]
  }
 ],
 "metadata": {},
 "nbformat": 4,
 "nbformat_minor": 5
}