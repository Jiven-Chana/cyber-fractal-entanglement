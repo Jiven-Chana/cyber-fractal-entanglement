{
 "cells": [
  {
   "cell_type": "markdown",
   "id": "57f236e4",
   "metadata": {},
   "source": [
    "# Cyber-Fractal Entanglement\n",
    "\n",
    "A predictive research pipeline for systemic market risk using quantum mutual information (QMI) derived from fractal time-series."
   ]
  },
  {
   "cell_type": "markdown",
   "id": "84c8c5d3",
   "metadata": {},
   "source": [
    "## Objective\n",
    "\n",
    "To evaluate whether **quantum mutual information (QMI)** between asset **fractal fingerprints** provides statistically significant **early-warning signals** for equity drawdowns, focusing on SPX."
   ]
  },
  {
   "cell_type": "markdown",
   "id": "d137560d",
   "metadata": {},
   "source": [
    "## Fractal Methods\n",
    "\n",
    "We evaluate both Higuchi fractal dimension and Hurst exponent:\n",
    "\n",
    "| Criterion | Higuchi | Hurst |\n",
    "|----------|--------|--------|\n",
    "| Robustness to Noise | ✅ Short/noisy series | ❌ Sensitive to outliers |\n",
    "| Window Size | Works on ≥30 points | Needs ≥100 points |\n",
    "| Interpretability | $1 < D < 2$ | $0 < H < 1$ |\n",
    "| Speed | Slower | Faster |\n",
    "| Use in literature | Widely used in econophysics | Classic in time-series |\n",
    "\n",
    "We choose Higuchi for the majority of the analysis due to its robustness on noisy data."
   ]
  },
  {
   "cell_type": "code",
   "execution_count": null,
   "id": "a8eb5c0b",
   "metadata": {},
   "outputs": [],
   "source": [
    "# Compute Higuchi FD (default method)\n",
    "!python src/fractal.py -i data/processed/prices.csv -w 30\n",
    "\n",
    "# Compute Hurst FD\n",
    "!python src/fractal.py -i data/processed/prices.csv -w 100 -m hurst"
   ]
  },
  {
   "cell_type": "markdown",
   "id": "84e23c6b",
   "metadata": {},
   "source": [
    "## Systemic Entanglement $C(t)$\n",
    "\n",
    "For each day $t$, we compute:\n",
    "- Rolling covariance matrix $\\Sigma_t$ from $D_i(t)$ across assets\n",
    "- Normalize: $\\rho_t = \\Sigma_t / \\text{Tr}(\\Sigma_t)$\n",
    "- Compute QMI and aggregate to scalar $C(t)$ score\n",
    "\n",
    "This captures cross-asset fractal co-movement dynamics."
   ]
  },
  {
   "cell_type": "code",
   "execution_count": null,
   "id": "e5da47b1",
   "metadata": {},
   "outputs": [],
   "source": [
    "# Run predictive validation for drawdown risk\n",
    "!python src/validate_ct.py --c_series data/processed/C_series_diff.csv --threshold -0.02 --horizon 5"
   ]
  },
  {
   "cell_type": "markdown",
   "id": "7379daec",
   "metadata": {},
   "source": [
    "### Output Summary\n",
    "```\n",
    "Granger lag=1 p-value=0.9122\n",
    "Logistic regression p-value=0.0470, CV AUC=0.582\n",
    "Validation complete. ROC curve saved.\n",
    "```"
   ]
  },
  {
   "cell_type": "markdown",
   "id": "adb7ff6e",
   "metadata": {},
   "source": [
    "## QMI Evolution Surface\n",
    "\n",
    "![](images/qmi_evolution.png)\n",
    "\n",
    "A 3D surface showing how pairwise QMI values evolve over time across asset pairs. Peaks signal systemic complexity build-up — often preceding market drawdowns."
   ]
  },
  {
   "cell_type": "markdown",
   "id": "adb15579",
   "metadata": {},
   "source": [
    "## Top Grid Search Results\n",
    "\n",
    "| Asset Basket | Threshold | Horizon (days) | Granger $p$ | Logit AUC | Remarks |\n",
    "|--------------|-----------|----------------|-------------|-----------|---------|\n",
    "| ANY3         | -3%       | 5              | 0.550       | 0.677     | Strong cross-asset signal |\n",
    "| ANY3         | -1%       | 10             | 0.893       | 0.661     | Persistent signal with shallow threshold |\n",
    "| SPX          | -1%       | 10             | 0.001       | 0.628     | Equity-specific predictive signal |"
   ]
  }
 ],
 "metadata": {},
 "nbformat": 4,
 "nbformat_minor": 5
}
