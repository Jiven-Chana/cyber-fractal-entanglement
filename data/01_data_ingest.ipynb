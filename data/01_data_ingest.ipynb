{
 "cells": [
  {
   "cell_type": "code",
   "id": "initial_id",
   "metadata": {
    "collapsed": true,
    "ExecuteTime": {
     "end_time": "2025-06-20T21:28:27.578989Z",
     "start_time": "2025-06-20T21:28:12.251972Z"
    }
   },
   "source": [
    "import yfinance as yf\n",
    "from pathlib import Path\n",
    "\n",
    "\n",
    "\n",
    "assets = {\"SPX\":\"^GSPC\",\"GOLD\":\"GC=F\",\"BTC\":\"BTC-USD\"}\n",
    "start, end = \"2022-01-01\",\"2025-01-01\"\n",
    "\n",
    "# Ensure the raw data directory exists\n",
    "raw_dir = Path('data/raw')\n",
    "raw_dir.mkdir(parents=True, exist_ok=True)\n",
    "\n",
    "for name, ticker in assets.items():\n",
    "    try:\n",
    "        print(f\"Downloading {name} ({ticker})...\")\n",
    "        df = yf.download(ticker, start=start, end=end)\n",
    "        df['Close'].to_csv(raw_dir / f\"{name}.csv\")\n",
    "        print(f\"Saved raw data for {name} to {raw_dir / (name + '.csv')}\")\n",
    "    except Exception as e:\n",
    "        print(f\"Error downloading {name}: {e}\")"
   ],
   "outputs": [
    {
     "name": "stdout",
     "output_type": "stream",
     "text": [
      "Downloading SPX (^GSPC)...\n"
     ]
    },
    {
     "name": "stderr",
     "output_type": "stream",
     "text": [
      "/var/folders/sr/7d6q0qpj6d38ppqlpgw6vtxh0000gn/T/ipykernel_4743/2555723900.py:14: FutureWarning: YF.download() has changed argument auto_adjust default to True\n",
      "  df = yf.download(ticker, start=start, end=end)\n",
      "[*********************100%***********************]  1 of 1 completed\n",
      "/var/folders/sr/7d6q0qpj6d38ppqlpgw6vtxh0000gn/T/ipykernel_4743/2555723900.py:14: FutureWarning: YF.download() has changed argument auto_adjust default to True\n",
      "  df = yf.download(ticker, start=start, end=end)\n"
     ]
    },
    {
     "name": "stdout",
     "output_type": "stream",
     "text": [
      "Saved raw data for SPX to data/raw/SPX.csv\n",
      "Downloading GOLD (GC=F)...\n"
     ]
    },
    {
     "name": "stderr",
     "output_type": "stream",
     "text": [
      "[*********************100%***********************]  1 of 1 completed\n",
      "/var/folders/sr/7d6q0qpj6d38ppqlpgw6vtxh0000gn/T/ipykernel_4743/2555723900.py:14: FutureWarning: YF.download() has changed argument auto_adjust default to True\n",
      "  df = yf.download(ticker, start=start, end=end)\n"
     ]
    },
    {
     "name": "stdout",
     "output_type": "stream",
     "text": [
      "Saved raw data for GOLD to data/raw/GOLD.csv\n",
      "Downloading BTC (BTC-USD)...\n"
     ]
    },
    {
     "name": "stderr",
     "output_type": "stream",
     "text": [
      "[*********************100%***********************]  1 of 1 completed"
     ]
    },
    {
     "name": "stdout",
     "output_type": "stream",
     "text": [
      "Saved raw data for BTC to data/raw/BTC.csv\n"
     ]
    },
    {
     "name": "stderr",
     "output_type": "stream",
     "text": [
      "\n"
     ]
    }
   ],
   "execution_count": 1
  },
  {
   "metadata": {
    "ExecuteTime": {
     "end_time": "2025-06-20T21:32:25.531025Z",
     "start_time": "2025-06-20T21:32:25.524498Z"
    }
   },
   "cell_type": "code",
   "source": [
    "import os\n",
    "print(\"Current working dir:\", os.getcwd())\n",
    "\n",
    "# And list whatever’s in data/raw right now:\n",
    "print(\"data/raw contains:\", os.listdir(\"data/raw\"))"
   ],
   "id": "ea948dadc13052c5",
   "outputs": [
    {
     "name": "stdout",
     "output_type": "stream",
     "text": [
      "Current working dir: /Users/jivenchana/PycharmProjects/cyber-fractal-entanglement/data\n",
      "data/raw contains: ['BTC.csv', 'GOLD.csv', 'SPX.csv']\n"
     ]
    }
   ],
   "execution_count": 2
  }
 ],
 "metadata": {
  "kernelspec": {
   "display_name": "Python 3",
   "language": "python",
   "name": "python3"
  },
  "language_info": {
   "codemirror_mode": {
    "name": "ipython",
    "version": 2
   },
   "file_extension": ".py",
   "mimetype": "text/x-python",
   "name": "python",
   "nbconvert_exporter": "python",
   "pygments_lexer": "ipython2",
   "version": "2.7.6"
  }
 },
 "nbformat": 4,
 "nbformat_minor": 5
}
